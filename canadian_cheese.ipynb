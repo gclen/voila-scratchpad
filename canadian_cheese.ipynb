{
 "cells": [
  {
   "cell_type": "markdown",
   "metadata": {},
   "source": [
    "### This is an extremely simple example of using voila and qgrid to make an interactive table\n",
    "\n",
    "We are going to get some open data about Canadian cheese from https://open.canada.ca/data/en/dataset/3c16cd48-3ac3-453f-8260-6f745181c83b and make an interactive table."
   ]
  },
  {
   "cell_type": "code",
   "execution_count": null,
   "metadata": {},
   "outputs": [],
   "source": [
    "import os\n",
    "import ipywidgets as widgets\n",
    "\n",
    "import numpy as np\n",
    "import pandas as pd\n",
    "import qgrid\n",
    "\n",
    "import requests"
   ]
  },
  {
   "cell_type": "code",
   "execution_count": null,
   "metadata": {},
   "outputs": [],
   "source": [
    "r = requests.get('https://od-do.agr.gc.ca/canadianCheeseDirectory.json')"
   ]
  },
  {
   "cell_type": "code",
   "execution_count": null,
   "metadata": {},
   "outputs": [],
   "source": [
    "cheese_df = pd.DataFrame(r.json()['CheeseDirectory'])"
   ]
  },
  {
   "cell_type": "code",
   "execution_count": null,
   "metadata": {},
   "outputs": [],
   "source": [
    "# Define qgrid widget\n",
    "qgrid.set_grid_option('maxVisibleRows', 10)\n",
    "col_opts = { \n",
    "    'editable': False,\n",
    "}\n",
    "\n",
    "def on_row_selected(change):\n",
    "    \"\"\"callback for row selection: update selected points in scatter plot\"\"\"\n",
    "    filtered_df = qgrid_widget.get_changed_df()           \n",
    "    team_scatter.selected = filtered_df.iloc[change.new].index.tolist()\n",
    "    \n",
    "        \n",
    "qgrid_widget = qgrid.show_grid(cheese_df, show_toolbar=False, column_options=col_opts)\n",
    "qgrid_widget.observe(on_row_selected, names=['_selected_rows'])"
   ]
  },
  {
   "cell_type": "code",
   "execution_count": null,
   "metadata": {},
   "outputs": [],
   "source": [
    "cheese_app = widgets.VBox([qgrid_widget])"
   ]
  },
  {
   "cell_type": "code",
   "execution_count": null,
   "metadata": {},
   "outputs": [],
   "source": [
    "cheese_app"
   ]
  },
  {
   "cell_type": "code",
   "execution_count": null,
   "metadata": {},
   "outputs": [],
   "source": []
  },
  {
   "cell_type": "code",
   "execution_count": null,
   "metadata": {},
   "outputs": [],
   "source": []
  },
  {
   "cell_type": "code",
   "execution_count": null,
   "metadata": {},
   "outputs": [],
   "source": []
  }
 ],
 "metadata": {
  "kernelspec": {
   "display_name": "Python 3",
   "language": "python",
   "name": "python3"
  },
  "language_info": {
   "codemirror_mode": {
    "name": "ipython",
    "version": 3
   },
   "file_extension": ".py",
   "mimetype": "text/x-python",
   "name": "python",
   "nbconvert_exporter": "python",
   "pygments_lexer": "ipython3",
   "version": "3.8.1"
  }
 },
 "nbformat": 4,
 "nbformat_minor": 4
}
